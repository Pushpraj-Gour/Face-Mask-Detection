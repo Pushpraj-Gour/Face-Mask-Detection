{
  "nbformat": 4,
  "nbformat_minor": 0,
  "metadata": {
    "colab": {
      "provenance": [],
      "gpuType": "T4"
    },
    "kernelspec": {
      "name": "python3",
      "display_name": "Python 3"
    },
    "language_info": {
      "name": "python"
    },
    "accelerator": "GPU"
  },
  "cells": [
    {
      "cell_type": "code",
      "execution_count": 1,
      "metadata": {
        "id": "-l0YLiFqrAcH"
      },
      "outputs": [],
      "source": [
        "!mkdir -p ~/.kaggle\n",
        "!cp kaggle.json ~/.kaggle/"
      ]
    },
    {
      "cell_type": "code",
      "source": [
        "!kaggle datasets download -d ashishjangra27/face-mask-12k-images-dataset"
      ],
      "metadata": {
        "colab": {
          "base_uri": "https://localhost:8080/"
        },
        "id": "TyNUUMSdy_Ms",
        "outputId": "ac2355f9-97f2-412b-8446-fd0761b8082d"
      },
      "execution_count": 2,
      "outputs": [
        {
          "output_type": "stream",
          "name": "stdout",
          "text": [
            "Warning: Your Kaggle API key is readable by other users on this system! To fix this, you can run 'chmod 600 /root/.kaggle/kaggle.json'\n",
            "Dataset URL: https://www.kaggle.com/datasets/ashishjangra27/face-mask-12k-images-dataset\n",
            "License(s): CC0-1.0\n",
            "Downloading face-mask-12k-images-dataset.zip to /content\n",
            " 93% 307M/330M [00:02<00:00, 108MB/s]\n",
            "100% 330M/330M [00:02<00:00, 157MB/s]\n"
          ]
        }
      ]
    },
    {
      "cell_type": "code",
      "source": [
        "!unzip /content/face-mask-12k-images-dataset.zip"
      ],
      "metadata": {
        "id": "WLe603DT0ot6"
      },
      "execution_count": null,
      "outputs": []
    },
    {
      "cell_type": "code",
      "source": [
        "import tensorflow as tf\n",
        "from tensorflow import keras\n",
        "from keras.layers import Dense,Dropout,BatchNormalization,Conv2D,MaxPooling2D,Flatten\n",
        "from keras.models import Sequential\n",
        "import matplotlib.pyplot as plt\n",
        "import numpy as np\n",
        "import pandas as pd\n",
        "import matplotlib.image as mpimg\n",
        "from PIL import Image"
      ],
      "metadata": {
        "id": "qdmR8SYgtYGO"
      },
      "execution_count": 4,
      "outputs": []
    },
    {
      "cell_type": "code",
      "source": [
        "# Generators\n",
        "train_ds  = keras.utils.image_dataset_from_directory(\n",
        "    directory = \"/content/Face Mask Dataset/Train\",\n",
        "    labels = \"inferred\",\n",
        "    label_mode = \"int\",\n",
        "    batch_size = 32,\n",
        "    image_size = (256,256)\n",
        ")\n",
        "validation_ds  = keras.utils.image_dataset_from_directory(\n",
        "    directory = \"/content/Face Mask Dataset/Test\",\n",
        "    labels = \"inferred\",\n",
        "    label_mode = \"int\",\n",
        "    batch_size = 32,\n",
        "    image_size = (256,256)\n",
        ")"
      ],
      "metadata": {
        "colab": {
          "base_uri": "https://localhost:8080/"
        },
        "id": "6U9J9n0vssvS",
        "outputId": "985de836-1181-405b-a87d-0a36c80879ff"
      },
      "execution_count": 5,
      "outputs": [
        {
          "output_type": "stream",
          "name": "stdout",
          "text": [
            "Found 10000 files belonging to 2 classes.\n",
            "Found 992 files belonging to 2 classes.\n"
          ]
        }
      ]
    },
    {
      "cell_type": "code",
      "source": [
        "def process(image,label):\n",
        "  image = tf.cast(image/255. , tf.float32)\n",
        "  return image,label\n",
        "\n",
        "train_ds = train_ds.map(process)\n",
        "validation_ds = validation_ds.map(process)"
      ],
      "metadata": {
        "id": "AfypvOk0wlIh"
      },
      "execution_count": 6,
      "outputs": []
    },
    {
      "cell_type": "code",
      "source": [
        "model = Sequential()\n",
        "\n",
        "model.add(Conv2D(64,kernel_size=(3,3),activation = \"relu\",padding=\"valid\",input_shape = (256,256,3)))\n",
        "model.add(MaxPooling2D(pool_size=(2,2),strides=2,padding=\"valid\"))\n",
        "\n",
        "model.add(Conv2D(64,kernel_size=(3,3),activation = \"relu\",padding=\"valid\"))\n",
        "model.add(MaxPooling2D(pool_size=(2,2),strides=2,padding=\"valid\"))\n",
        "\n",
        "model.add(Conv2D(64,kernel_size=(3,3),activation = \"relu\",padding=\"valid\"))\n",
        "model.add(MaxPooling2D(pool_size=(2,2),strides=2,padding=\"valid\"))\n",
        "\n",
        "model.add(Flatten())\n",
        "\n",
        "model.add(Dense(128,activation = \"relu\"))\n",
        "model.add(Dropout(0.2))\n",
        "\n",
        "model.add(Dense(64,activation = \"relu\"))\n",
        "model.add(Dropout(0.2))\n",
        "\n",
        "model.add(Dense(1,activation = \"sigmoid\"))\n"
      ],
      "metadata": {
        "id": "eUAiXcv0t747"
      },
      "execution_count": 7,
      "outputs": []
    },
    {
      "cell_type": "code",
      "source": [
        "model.summary()"
      ],
      "metadata": {
        "colab": {
          "base_uri": "https://localhost:8080/"
        },
        "id": "u0EuRgonupTR",
        "outputId": "ebd2caf9-2448-4154-c719-c1fd411c2d09"
      },
      "execution_count": 8,
      "outputs": [
        {
          "output_type": "stream",
          "name": "stdout",
          "text": [
            "Model: \"sequential\"\n",
            "_________________________________________________________________\n",
            " Layer (type)                Output Shape              Param #   \n",
            "=================================================================\n",
            " conv2d (Conv2D)             (None, 254, 254, 64)      1792      \n",
            "                                                                 \n",
            " max_pooling2d (MaxPooling2  (None, 127, 127, 64)      0         \n",
            " D)                                                              \n",
            "                                                                 \n",
            " conv2d_1 (Conv2D)           (None, 125, 125, 64)      36928     \n",
            "                                                                 \n",
            " max_pooling2d_1 (MaxPoolin  (None, 62, 62, 64)        0         \n",
            " g2D)                                                            \n",
            "                                                                 \n",
            " conv2d_2 (Conv2D)           (None, 60, 60, 64)        36928     \n",
            "                                                                 \n",
            " max_pooling2d_2 (MaxPoolin  (None, 30, 30, 64)        0         \n",
            " g2D)                                                            \n",
            "                                                                 \n",
            " flatten (Flatten)           (None, 57600)             0         \n",
            "                                                                 \n",
            " dense (Dense)               (None, 128)               7372928   \n",
            "                                                                 \n",
            " dropout (Dropout)           (None, 128)               0         \n",
            "                                                                 \n",
            " dense_1 (Dense)             (None, 64)                8256      \n",
            "                                                                 \n",
            " dropout_1 (Dropout)         (None, 64)                0         \n",
            "                                                                 \n",
            " dense_2 (Dense)             (None, 1)                 65        \n",
            "                                                                 \n",
            "=================================================================\n",
            "Total params: 7456897 (28.45 MB)\n",
            "Trainable params: 7456897 (28.45 MB)\n",
            "Non-trainable params: 0 (0.00 Byte)\n",
            "_________________________________________________________________\n"
          ]
        }
      ]
    },
    {
      "cell_type": "code",
      "source": [
        "model.compile(loss=\"binary_crossentropy\",optimizer=\"adam\",metrics=[\"accuracy\"])"
      ],
      "metadata": {
        "id": "JXbOjyVnu52d"
      },
      "execution_count": 9,
      "outputs": []
    },
    {
      "cell_type": "code",
      "source": [
        "record = model.fit(train_ds,epochs=10,validation_data=validation_ds)"
      ],
      "metadata": {
        "colab": {
          "base_uri": "https://localhost:8080/"
        },
        "id": "1L-NqPBQvBlv",
        "outputId": "86cfa57d-0d9c-4d32-d563-8fabf61cd7eb"
      },
      "execution_count": 10,
      "outputs": [
        {
          "output_type": "stream",
          "name": "stdout",
          "text": [
            "Epoch 1/10\n",
            "313/313 [==============================] - 44s 98ms/step - loss: 0.1838 - accuracy: 0.9277 - val_loss: 0.1037 - val_accuracy: 0.9688\n",
            "Epoch 2/10\n",
            "313/313 [==============================] - 32s 102ms/step - loss: 0.0903 - accuracy: 0.9709 - val_loss: 0.0665 - val_accuracy: 0.9778\n",
            "Epoch 3/10\n",
            "313/313 [==============================] - 38s 120ms/step - loss: 0.0641 - accuracy: 0.9776 - val_loss: 0.0717 - val_accuracy: 0.9788\n",
            "Epoch 4/10\n",
            "313/313 [==============================] - 38s 118ms/step - loss: 0.0520 - accuracy: 0.9830 - val_loss: 0.0641 - val_accuracy: 0.9829\n",
            "Epoch 5/10\n",
            "313/313 [==============================] - 34s 108ms/step - loss: 0.0331 - accuracy: 0.9880 - val_loss: 0.0662 - val_accuracy: 0.9758\n",
            "Epoch 6/10\n",
            "313/313 [==============================] - 31s 97ms/step - loss: 0.0325 - accuracy: 0.9893 - val_loss: 0.0746 - val_accuracy: 0.9748\n",
            "Epoch 7/10\n",
            "313/313 [==============================] - 28s 90ms/step - loss: 0.0327 - accuracy: 0.9901 - val_loss: 0.0409 - val_accuracy: 0.9889\n",
            "Epoch 8/10\n",
            "313/313 [==============================] - 30s 95ms/step - loss: 0.0218 - accuracy: 0.9932 - val_loss: 0.0320 - val_accuracy: 0.9919\n",
            "Epoch 9/10\n",
            "313/313 [==============================] - 29s 92ms/step - loss: 0.0194 - accuracy: 0.9925 - val_loss: 0.0385 - val_accuracy: 0.9849\n",
            "Epoch 10/10\n",
            "313/313 [==============================] - 29s 91ms/step - loss: 0.0145 - accuracy: 0.9951 - val_loss: 0.0662 - val_accuracy: 0.9869\n"
          ]
        },
        {
          "output_type": "execute_result",
          "data": {
            "text/plain": [
              "<keras.src.callbacks.History at 0x7ea75967bfd0>"
            ]
          },
          "metadata": {},
          "execution_count": 10
        }
      ]
    },
    {
      "cell_type": "code",
      "source": [
        "loss ,acc = model.evaluate(validation_ds)"
      ],
      "metadata": {
        "colab": {
          "base_uri": "https://localhost:8080/"
        },
        "id": "2CZYtIp_1y5t",
        "outputId": "643f9082-5eed-4db5-bc81-01c4c5ce9bda"
      },
      "execution_count": 11,
      "outputs": [
        {
          "output_type": "stream",
          "name": "stdout",
          "text": [
            "31/31 [==============================] - 2s 42ms/step - loss: 0.0662 - accuracy: 0.9869\n"
          ]
        }
      ]
    },
    {
      "cell_type": "code",
      "source": [
        "plt.plot(record.history[\"accuracy\"],label=\"Training Accuracy\",color=\"red\")\n",
        "plt.plot(record.history[\"val_accuracy\"],label=\"Testing Accuracy\",color=\"green\")\n",
        "plt.xlabel(\"Epochs\")\n",
        "plt.ylabel(\"Accuracy\")\n",
        "plt.legend()\n",
        "plt.show()"
      ],
      "metadata": {
        "id": "UrgRNBMh4og3"
      },
      "execution_count": null,
      "outputs": []
    },
    {
      "cell_type": "code",
      "source": [
        "plt.plot(record.history[\"loss\"],label=\"Training Loss\",color=\"red\")\n",
        "plt.plot(record.history[\"val_loss\"],label=\"Testing Loss\",color=\"green\")\n",
        "plt.xlabel(\"Epochs\")\n",
        "plt.ylabel(\"Loss\")\n",
        "plt.legend()\n",
        "plt.show()"
      ],
      "metadata": {
        "id": "RbIRwZsg5DHs"
      },
      "execution_count": null,
      "outputs": []
    },
    {
      "cell_type": "code",
      "source": [
        "#Testing\n",
        "import cv2\n",
        "test_img = cv2.imread(\"/content/Face Mask Dataset/Test/WithoutMask/1808.png\")\n",
        "plt.imshow(test_img)\n",
        "test_img.shape\n",
        "test_img = cv2.resize(test_img,(256,256))\n",
        "test_img = test_img/255\n",
        "test_input = test_img.reshape((1,256,256,3))\n",
        "output = model.predict(test_input)\n",
        "if output[0][0]>0.5:\n",
        "  print(\"No Mask Detected\")\n",
        "else:\n",
        "  print(\"Mask Detected\")"
      ],
      "metadata": {
        "id": "yYgixhXMvEj2",
        "colab": {
          "base_uri": "https://localhost:8080/",
          "height": 469
        },
        "outputId": "f2a5f3be-3264-4d41-f629-d0e46d891d8e"
      },
      "execution_count": 25,
      "outputs": [
        {
          "output_type": "stream",
          "name": "stdout",
          "text": [
            "1/1 [==============================] - 0s 18ms/step\n",
            "Mask Detected\n"
          ]
        },
        {
          "output_type": "display_data",
          "data": {
            "text/plain": [
              "<Figure size 640x480 with 1 Axes>"
            ],
            "image/png": "[encoded data removed]"
          },
          "metadata": {}
        }
      ]
    },
    {
      "cell_type": "code",
      "source": [
        "!kaggle datasets download -d omkargurav/face-mask-dataset"
      ],
      "metadata": {
        "colab": {
          "base_uri": "https://localhost:8080/"
        },
        "id": "uV50-3TC2lGW",
        "outputId": "e710905a-98af-42e3-e487-a7a222e1ec71"
      },
      "execution_count": 18,
      "outputs": [
        {
          "output_type": "stream",
          "name": "stdout",
          "text": [
            "Warning: Your Kaggle API key is readable by other users on this system! To fix this, you can run 'chmod 600 /root/.kaggle/kaggle.json'\n",
            "Dataset URL: https://www.kaggle.com/datasets/omkargurav/face-mask-dataset\n",
            "License(s): unknown\n",
            "face-mask-dataset.zip: Skipping, found more recently modified local copy (use --force to force download)\n"
          ]
        }
      ]
    },
    {
      "cell_type": "code",
      "source": [
        "!unzip /content/face-mask-dataset.zip"
      ],
      "metadata": {
        "id": "G7zvZK634MRN"
      },
      "execution_count": null,
      "outputs": []
    },
    {
      "cell_type": "code",
      "source": [],
      "metadata": {
        "id": "R4bGgPIV4Oik"
      },
      "execution_count": null,
      "outputs": []
    }
  ]
}