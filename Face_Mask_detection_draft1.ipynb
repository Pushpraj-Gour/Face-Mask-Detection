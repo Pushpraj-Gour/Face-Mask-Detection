{
  "nbformat": 4,
  "nbformat_minor": 0,
  "metadata": {
    "colab": {
      "provenance": []
    },
    "kernelspec": {
      "name": "python3",
      "display_name": "Python 3"
    },
    "language_info": {
      "name": "python"
    }
  },
  "cells": [
    {
      "cell_type": "code",
      "execution_count": 5,
      "metadata": {
        "id": "-l0YLiFqrAcH"
      },
      "outputs": [],
      "source": [
        "!mkdir -p ~/.kaggle\n",
        "!cp kaggle.json ~/.kaggle/"
      ]
    },
    {
      "cell_type": "code",
      "source": [
        "!kaggle datasets download -d omkargurav/face-mask-dataset"
      ],
      "metadata": {
        "colab": {
          "base_uri": "https://localhost:8080/"
        },
        "id": "pywExA4fsEPk",
        "outputId": "6eb31fb6-7fb6-4dd0-bef9-c2cea7adc187"
      },
      "execution_count": 7,
      "outputs": [
        {
          "output_type": "stream",
          "name": "stdout",
          "text": [
            "Dataset URL: https://www.kaggle.com/datasets/omkargurav/face-mask-dataset\n",
            "License(s): unknown\n",
            "Downloading face-mask-dataset.zip to /content\n",
            " 96% 157M/163M [00:01<00:00, 90.4MB/s]\n",
            "100% 163M/163M [00:01<00:00, 90.9MB/s]\n"
          ]
        }
      ]
    },
    {
      "cell_type": "code",
      "source": [
        "!unzip face-mask-dataset.zip"
      ],
      "metadata": {
        "id": "VjykgBogsm43"
      },
      "execution_count": null,
      "outputs": []
    },
    {
      "cell_type": "code",
      "source": [
        "import tensorflow as tf\n",
        "from tensorflow import keras\n",
        "from keras.layers import Dense,Dropout,BatchNormalization,Conv2D,MaxPooling2D,Flatten\n",
        "from keras.models import Sequential\n",
        "import matplotlib.pyplot as plt\n",
        "import numpy as np\n",
        "import pandas as pd\n",
        "import matplotlib.image as mpimg\n",
        "from PIL import Image"
      ],
      "metadata": {
        "id": "qdmR8SYgtYGO"
      },
      "execution_count": 12,
      "outputs": []
    },
    {
      "cell_type": "code",
      "source": [
        "# Generators\n",
        "train_ds  = keras.utils.image_dataset_from_directory(\n",
        "    directory = \"/content/data\",\n",
        "    labels = \"inferred\",\n",
        "    label_mode = \"int\",\n",
        "    batch_size = 32,\n",
        "    image_size = (256,256)\n",
        ")\n",
        "# validation_ds  = keras.utils.image_dataset_from_directory(\n",
        "#     directory = \"/content/test\",\n",
        "#     labels = \"inferred\",\n",
        "#     label_mode = \"int\",\n",
        "#     batch_size = 32,\n",
        "#     image_size = (256,256)\n",
        "# )"
      ],
      "metadata": {
        "colab": {
          "base_uri": "https://localhost:8080/"
        },
        "id": "6U9J9n0vssvS",
        "outputId": "bbcc5a3f-6b3e-4a0d-b452-5de9f32e6053"
      },
      "execution_count": 11,
      "outputs": [
        {
          "output_type": "stream",
          "name": "stdout",
          "text": [
            "Found 7553 files belonging to 2 classes.\n"
          ]
        }
      ]
    },
    {
      "cell_type": "code",
      "source": [
        "model = Sequential()\n",
        "\n",
        "model.add(Conv2D(64,kernel_size=(3,3),activation = \"relu\",padding=\"valid\",input_shape = (256,256,3)))\n",
        "model.add(MaxPooling2D(pool_size=(2,2),strides=2,padding=\"valid\"))\n",
        "\n",
        "model.add(Conv2D(64,kernel_size=(3,3),activation = \"relu\",padding=\"valid\"))\n",
        "model.add(MaxPooling2D(pool_size=(2,2),strides=2,padding=\"valid\"))\n",
        "\n",
        "model.add(Conv2D(64,kernel_size=(3,3),activation = \"relu\",padding=\"valid\"))\n",
        "model.add(MaxPooling2D(pool_size=(2,2),strides=2,padding=\"valid\"))\n",
        "\n",
        "model.add(Flatten())\n",
        "\n",
        "model.add(Dense(128,activation = \"relu\"))\n",
        "model.add(Dropout(0.2))\n",
        "\n",
        "model.add(Dense(64,activation = \"relu\"))\n",
        "model.add(Dropout(0.2))\n",
        "\n",
        "model.add(Dense(1,activation = \"sigmoid\"))\n"
      ],
      "metadata": {
        "id": "eUAiXcv0t747"
      },
      "execution_count": 16,
      "outputs": []
    },
    {
      "cell_type": "code",
      "source": [
        "model.summary()"
      ],
      "metadata": {
        "colab": {
          "base_uri": "https://localhost:8080/"
        },
        "id": "u0EuRgonupTR",
        "outputId": "b1ede290-0348-483d-d9d3-d11096509aac"
      },
      "execution_count": 17,
      "outputs": [
        {
          "output_type": "stream",
          "name": "stdout",
          "text": [
            "Model: \"sequential_2\"\n",
            "_________________________________________________________________\n",
            " Layer (type)                Output Shape              Param #   \n",
            "=================================================================\n",
            " conv2d_3 (Conv2D)           (None, 254, 254, 64)      1792      \n",
            "                                                                 \n",
            " max_pooling2d_3 (MaxPoolin  (None, 127, 127, 64)      0         \n",
            " g2D)                                                            \n",
            "                                                                 \n",
            " conv2d_4 (Conv2D)           (None, 125, 125, 64)      36928     \n",
            "                                                                 \n",
            " max_pooling2d_4 (MaxPoolin  (None, 62, 62, 64)        0         \n",
            " g2D)                                                            \n",
            "                                                                 \n",
            " conv2d_5 (Conv2D)           (None, 60, 60, 64)        36928     \n",
            "                                                                 \n",
            " max_pooling2d_5 (MaxPoolin  (None, 30, 30, 64)        0         \n",
            " g2D)                                                            \n",
            "                                                                 \n",
            " flatten (Flatten)           (None, 57600)             0         \n",
            "                                                                 \n",
            " dense (Dense)               (None, 128)               7372928   \n",
            "                                                                 \n",
            " dropout (Dropout)           (None, 128)               0         \n",
            "                                                                 \n",
            " dense_1 (Dense)             (None, 64)                8256      \n",
            "                                                                 \n",
            " dropout_1 (Dropout)         (None, 64)                0         \n",
            "                                                                 \n",
            " dense_2 (Dense)             (None, 1)                 65        \n",
            "                                                                 \n",
            "=================================================================\n",
            "Total params: 7456897 (28.45 MB)\n",
            "Trainable params: 7456897 (28.45 MB)\n",
            "Non-trainable params: 0 (0.00 Byte)\n",
            "_________________________________________________________________\n"
          ]
        }
      ]
    },
    {
      "cell_type": "code",
      "source": [
        "model.compile(loss=\"binary_crossentropy\",optimizer=\"adam\",metrics=[\"accuracy\"])"
      ],
      "metadata": {
        "id": "JXbOjyVnu52d"
      },
      "execution_count": 18,
      "outputs": []
    },
    {
      "cell_type": "code",
      "source": [
        "model.fit(train_ds,epochs=10)"
      ],
      "metadata": {
        "colab": {
          "base_uri": "https://localhost:8080/"
        },
        "id": "1L-NqPBQvBlv",
        "outputId": "71678678-7980-4586-eda2-c0ad5d6bd5f8"
      },
      "execution_count": null,
      "outputs": [
        {
          "output_type": "stream",
          "name": "stdout",
          "text": [
            "Epoch 1/10\n",
            " 11/237 [>.............................] - ETA: 25:42 - loss: 50.2795 - accuracy: 0.4858"
          ]
        }
      ]
    },
    {
      "cell_type": "code",
      "source": [],
      "metadata": {
        "id": "yYgixhXMvEj2"
      },
      "execution_count": null,
      "outputs": []
    }
  ]
}